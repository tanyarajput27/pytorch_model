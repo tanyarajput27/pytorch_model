{
  "nbformat": 4,
  "nbformat_minor": 0,
  "metadata": {
    "colab": {
      "provenance": [],
      "authorship_tag": "ABX9TyODSY3KOrpEGuFJialRuIT5",
      "include_colab_link": true
    },
    "kernelspec": {
      "name": "python3",
      "display_name": "Python 3"
    },
    "language_info": {
      "name": "python"
    }
  },
  "cells": [
    {
      "cell_type": "markdown",
      "metadata": {
        "id": "view-in-github",
        "colab_type": "text"
      },
      "source": [
        "<a href=\"https://colab.research.google.com/github/PalakDograCSE-AI2004/CVDL_Summer_Internship/blob/main/Simple_ANN_from_scratch.ipynb\" target=\"_parent\"><img src=\"https://colab.research.google.com/assets/colab-badge.svg\" alt=\"Open In Colab\"/></a>"
      ]
    },
    {
      "cell_type": "code",
      "source": [
        "import numpy as np\n",
        "x=np.array([\n",
        "    [1,0,1,0],\n",
        "    [1,0,1,1],\n",
        "    [0,1,0,1]])\n",
        "y=np.array([[1],[1],[0]])"
      ],
      "metadata": {
        "id": "VqCHcrqfnK0M"
      },
      "execution_count": null,
      "outputs": []
    },
    {
      "cell_type": "code",
      "source": [
        "x"
      ],
      "metadata": {
        "colab": {
          "base_uri": "https://localhost:8080/"
        },
        "id": "tpUX545Hnkzo",
        "outputId": "4e4514ac-f1d1-409a-e0fd-c9c1cc9753c0"
      },
      "execution_count": null,
      "outputs": [
        {
          "output_type": "execute_result",
          "data": {
            "text/plain": [
              "array([[1, 0, 1, 0],\n",
              "       [1, 0, 1, 1],\n",
              "       [0, 1, 0, 1]])"
            ]
          },
          "metadata": {},
          "execution_count": 3
        }
      ]
    },
    {
      "cell_type": "code",
      "source": [
        "y"
      ],
      "metadata": {
        "colab": {
          "base_uri": "https://localhost:8080/"
        },
        "id": "a7CqKROBnnXa",
        "outputId": "56e6f874-3fc5-4400-b3ee-92fec384560c"
      },
      "execution_count": null,
      "outputs": [
        {
          "output_type": "execute_result",
          "data": {
            "text/plain": [
              "array([[1],\n",
              "       [1],\n",
              "       [0]])"
            ]
          },
          "metadata": {},
          "execution_count": 4
        }
      ]
    },
    {
      "cell_type": "code",
      "source": [
        "#defining activation function\n",
        "def sigmoid(x):\n",
        "  return 1/(1+np.exp(-x))"
      ],
      "metadata": {
        "id": "_TxGauSInoaE"
      },
      "execution_count": null,
      "outputs": []
    },
    {
      "cell_type": "code",
      "source": [
        "x.shape"
      ],
      "metadata": {
        "colab": {
          "base_uri": "https://localhost:8080/"
        },
        "id": "I2EAdzY-n77P",
        "outputId": "00651035-6a4d-464f-d2ba-9849e8b736c4"
      },
      "execution_count": null,
      "outputs": [
        {
          "output_type": "execute_result",
          "data": {
            "text/plain": [
              "(3, 4)"
            ]
          },
          "metadata": {},
          "execution_count": 6
        }
      ]
    },
    {
      "cell_type": "code",
      "source": [
        "y.shape"
      ],
      "metadata": {
        "colab": {
          "base_uri": "https://localhost:8080/"
        },
        "id": "VDmEmAR8oAPQ",
        "outputId": "e8eb27cd-3b08-4f7c-9463-efc18dba3804"
      },
      "execution_count": null,
      "outputs": [
        {
          "output_type": "execute_result",
          "data": {
            "text/plain": [
              "(3, 1)"
            ]
          },
          "metadata": {},
          "execution_count": 7
        }
      ]
    },
    {
      "cell_type": "code",
      "source": [
        "#input layer neurons will always be equal to the number of columns\n",
        "inputNeurons=x.shape[1]\n",
        "#hidden neurons are decided by hit and trial method\n",
        "hiddenNeurons=4\n",
        "#outputNeurons depends on number of classes in traget column\n",
        "outputNeurons=1"
      ],
      "metadata": {
        "id": "MNWLIes5oB6K"
      },
      "execution_count": null,
      "outputs": []
    },
    {
      "cell_type": "code",
      "source": [
        "weightsHidden=np.random.uniform(size=(inputNeurons,hiddenNeurons))\n",
        "biasHidden=np.random.uniform(size=(1,hiddenNeurons))\n",
        "weightsOutput=np.random.uniform(size=(hiddenNeurons,outputNeurons))\n",
        "biasOutput=np.random.uniform(size=(1,outputNeurons))\n"
      ],
      "metadata": {
        "id": "ikodsTleoyFn"
      },
      "execution_count": null,
      "outputs": []
    },
    {
      "cell_type": "code",
      "source": [
        "#feedForward\n",
        "fx=np.dot(x,weightsHidden)+biasHidden\n",
        "hiddenLayer=sigmoid(fx)\n",
        "hiddenLayer"
      ],
      "metadata": {
        "colab": {
          "base_uri": "https://localhost:8080/"
        },
        "id": "o1uo_PIvqIFY",
        "outputId": "c730cd30-13f2-4b02-f228-afb068005b9b"
      },
      "execution_count": null,
      "outputs": [
        {
          "output_type": "execute_result",
          "data": {
            "text/plain": [
              "array([[0.79237038, 0.82469927, 0.69827025, 0.81952787],\n",
              "       [0.86704463, 0.92247156, 0.7445319 , 0.88603793],\n",
              "       [0.8158695 , 0.79857443, 0.64352705, 0.84415484]])"
            ]
          },
          "metadata": {},
          "execution_count": 11
        }
      ]
    },
    {
      "cell_type": "code",
      "source": [
        "fx_=np.dot(hiddenLayer,weightsOutput)+biasOutput"
      ],
      "metadata": {
        "id": "QqoyrNNEqoPN"
      },
      "execution_count": null,
      "outputs": []
    },
    {
      "cell_type": "code",
      "source": [
        "outputLayer=sigmoid(fx_)\n",
        "outputLayer\n",
        "#this is our prediction ie y cap"
      ],
      "metadata": {
        "colab": {
          "base_uri": "https://localhost:8080/"
        },
        "id": "W65bP7pmrBqy",
        "outputId": "2ed75f58-fd9b-423a-e1e0-1c3cfdbcec2d"
      },
      "execution_count": null,
      "outputs": [
        {
          "output_type": "execute_result",
          "data": {
            "text/plain": [
              "array([[0.76372398],\n",
              "       [0.78057474],\n",
              "       [0.76513921]])"
            ]
          },
          "metadata": {},
          "execution_count": 14
        }
      ]
    },
    {
      "cell_type": "code",
      "source": [
        "#backPropogation\n",
        "def derivativeSigmoid(x):\n",
        "  return x*(1-x)"
      ],
      "metadata": {
        "id": "JkNkFJiMrHx2"
      },
      "execution_count": null,
      "outputs": []
    },
    {
      "cell_type": "code",
      "source": [
        "#backPropogation\n",
        "\n",
        "#on output layer\n",
        "errorOutput=outputLayer-y\n",
        "slopeOutput=derivativeSigmoid(outputLayer)\n",
        "deltaOutput=errorOutput*slopeOutput\n",
        "\n",
        "#now apply same steps on hidden layer\n",
        "errorHidden=np.dot(deltaOutput,weightsOutput.T)\n",
        "slopeHidden=derivativeSigmoid(hiddenLayer)\n",
        "deltaHidden=errorHidden*slopeHidden\n"
      ],
      "metadata": {
        "id": "guzvEAqFr6rc"
      },
      "execution_count": null,
      "outputs": []
    },
    {
      "cell_type": "code",
      "source": [
        "errorOutput"
      ],
      "metadata": {
        "colab": {
          "base_uri": "https://localhost:8080/"
        },
        "id": "ytkkS4fMtVvT",
        "outputId": "876116ea-84bb-4f5f-9c85-acde62c1dda8"
      },
      "execution_count": null,
      "outputs": [
        {
          "output_type": "execute_result",
          "data": {
            "text/plain": [
              "array([[-0.23627602],\n",
              "       [-0.21942526],\n",
              "       [ 0.76513921]])"
            ]
          },
          "metadata": {},
          "execution_count": 18
        }
      ]
    },
    {
      "cell_type": "code",
      "source": [
        "#now loss is found (errorOutput). Now we will optimize it"
      ],
      "metadata": {
        "id": "IO4CqktEtZR3"
      },
      "execution_count": null,
      "outputs": []
    },
    {
      "cell_type": "code",
      "source": [
        "#optimizing weights\n",
        "\n",
        "alpha=0.01\n",
        "#updating Weightoutput\n",
        "weightsOutput=weightsOutput-hiddenLayer.T.dot(deltaOutput)*alpha\n",
        "#updating Weighthidden\n",
        "weightsHidden=weightsHidden-x.T.dot(deltaHidden)*alpha\n",
        "#updating biasoutput\n",
        "biasOutput=biasOutput-np.sum(deltaOutput)*alpha\n",
        "#updating biashidden\n",
        "biasHidden=biasHidden-np.sum(deltaHidden)*alpha"
      ],
      "metadata": {
        "id": "UyP4vA2Ftl7c"
      },
      "execution_count": null,
      "outputs": []
    },
    {
      "cell_type": "code",
      "source": [
        "#combine all and put into iteration(by variable EPOCH)\n",
        "import numpy as np\n",
        "x=np.array([\n",
        "    [1,0,1,0],\n",
        "    [1,0,1,1],\n",
        "    [0,1,0,1]])\n",
        "y=np.array([[1],[1],[0]])\n",
        "#defining activation function\n",
        "def sigmoid(x):\n",
        "  return 1/(1+np.exp(-x))\n",
        "#input layer neurons will always be equal to the number of columns\n",
        "inputNeurons=x.shape[1]\n",
        "#hidden neurons are decided by hit and trial method\n",
        "hiddenNeurons=4\n",
        "#outputNeurons depends on number of classes in traget column\n",
        "outputNeurons=1\n",
        "\n",
        "weightsHidden=np.random.uniform(size=(inputNeurons,hiddenNeurons))\n",
        "biasHidden=np.random.uniform(size=(1,hiddenNeurons))\n",
        "weightsOutput=np.random.uniform(size=(hiddenNeurons,outputNeurons))\n",
        "biasOutput=np.random.uniform(size=(1,outputNeurons))\n",
        "\n",
        "alpha=0.01\n",
        "EPOCH=90000\n",
        "for i in range(EPOCH):\n",
        "  #feedForward\n",
        "  fx=np.dot(x,weightsHidden)+biasHidden\n",
        "  hiddenLayer=sigmoid(fx)\n",
        "  fx_=np.dot(hiddenLayer,weightsOutput)+biasOutput\n",
        "  outputLayer=sigmoid(fx_)\n",
        "  #backPropogation\n",
        "  def derivativeSigmoid(x):\n",
        "    return x*(1-x)\n",
        "  #backPropogation\n",
        "\n",
        "  #on output layer\n",
        "  errorOutput=outputLayer-y\n",
        "  slopeOutput=derivativeSigmoid(outputLayer)\n",
        "  deltaOutput=errorOutput*slopeOutput\n",
        "\n",
        "  #now apply same steps on hidden layer\n",
        "  errorHidden=np.dot(deltaOutput,weightsOutput.T)\n",
        "  slopeHidden=derivativeSigmoid(hiddenLayer)\n",
        "  deltaHidden=errorHidden*slopeHidden\n",
        "  #optimizing weights\n",
        "\n",
        "\n",
        "  #updating Weightoutput\n",
        "  weightsOutput=weightsOutput-hiddenLayer.T.dot(deltaOutput)*alpha\n",
        "  #updating Weighthidden\n",
        "  weightsHidden=weightsHidden-x.T.dot(deltaHidden)*alpha\n",
        "  #updating biasoutput\n",
        "  biasOutput=biasOutput-np.sum(deltaOutput)*alpha\n",
        "  #updating biashidden\n",
        "  biasHidden=biasHidden-np.sum(deltaHidden)*alpha"
      ],
      "metadata": {
        "id": "4SZ_uvLcvAnW"
      },
      "execution_count": null,
      "outputs": []
    },
    {
      "cell_type": "code",
      "source": [
        "outputLayer"
      ],
      "metadata": {
        "colab": {
          "base_uri": "https://localhost:8080/"
        },
        "id": "7YShJQPp5G44",
        "outputId": "cd3c588c-18a4-4f09-ca7c-2694e26e48d8"
      },
      "execution_count": null,
      "outputs": [
        {
          "output_type": "execute_result",
          "data": {
            "text/plain": [
              "array([[0.98464109],\n",
              "       [0.97841695],\n",
              "       [0.0278804 ]])"
            ]
          },
          "metadata": {},
          "execution_count": 30
        }
      ]
    },
    {
      "cell_type": "code",
      "source": [],
      "metadata": {
        "id": "R7ScAFOY5jQ0"
      },
      "execution_count": null,
      "outputs": []
    }
  ]
}