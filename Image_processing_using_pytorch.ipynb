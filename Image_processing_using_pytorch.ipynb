{
  "nbformat": 4,
  "nbformat_minor": 0,
  "metadata": {
    "colab": {
      "provenance": [],
      "authorship_tag": "ABX9TyMeUIEfXWTwHkxlzIbV248l",
      "include_colab_link": true
    },
    "kernelspec": {
      "name": "python3",
      "display_name": "Python 3"
    },
    "language_info": {
      "name": "python"
    }
  },
  "cells": [
    {
      "cell_type": "markdown",
      "metadata": {
        "id": "view-in-github",
        "colab_type": "text"
      },
      "source": [
        "<a href=\"https://colab.research.google.com/github/PalakDograCSE-AI2004/CVDL_Summer_Internship/blob/main/Image_processing_using_pytorch.ipynb\" target=\"_parent\"><img src=\"https://colab.research.google.com/assets/colab-badge.svg\" alt=\"Open In Colab\"/></a>"
      ]
    },
    {
      "cell_type": "code",
      "execution_count": null,
      "metadata": {
        "id": "CpNm4zEekemw"
      },
      "outputs": [],
      "source": [
        "#torchvision is the package for image processing\n",
        "#torchvision.dataset-to get pre defined datasets from pytorch\n",
        "#torchvision.models-to get pre defined models from pytorch\n",
        "#torchvision.transformers-to perform modifications on image\n",
        "#torchvision.utils.data.DataLoaders-to load the data"
      ]
    },
    {
      "cell_type": "code",
      "source": [
        "#importing base packages\n",
        "import torch\n",
        "#package for neural network\n",
        "from torch import nn\n",
        "#torchvision for imageprocessing\n",
        "import torchvision\n",
        "#to load dataset from torchvision\n",
        "from torchvision import datasets\n",
        "#to perform transformation and augmentation\n",
        "from torchvision.transforms import ToTensor\n",
        "#to plot images\n",
        "import matplotlib.pyplot as plt\n",
        "\n",
        "from torch.utils.data import DataLoader\n",
        "\n"
      ],
      "metadata": {
        "id": "9L-K2RBk_t1Z"
      },
      "execution_count": null,
      "outputs": []
    },
    {
      "cell_type": "code",
      "source": [
        "#now we will load the data\n",
        "\n",
        "train_data=datasets.FashionMNIST(\n",
        "    root=\"dataset\",#location(directory) where the data will be downloaded\n",
        "    train=True,#to download the training data\n",
        "    download=True,#download the data if data doesnot exists\n",
        "    transform=ToTensor(),#convert images to torch tensor\n",
        "    target_transform=None#here we are not changing the label names\n",
        "    )\n",
        "\n",
        "test_data=datasets.FashionMNIST(\n",
        "    root=\"dataset\",#location(directory) where the data will be downloaded\n",
        "    train=False,\n",
        "    download=True,#download the data if data doesnot exists\n",
        "    transform=ToTensor(),#convert images to torch tensor\n",
        "    )\n",
        "\n"
      ],
      "metadata": {
        "colab": {
          "base_uri": "https://localhost:8080/"
        },
        "id": "JMFFvkjbBaZM",
        "outputId": "086cd2bd-f479-4658-897c-18ca931f91a6"
      },
      "execution_count": null,
      "outputs": [
        {
          "output_type": "stream",
          "name": "stdout",
          "text": [
            "Downloading http://fashion-mnist.s3-website.eu-central-1.amazonaws.com/train-images-idx3-ubyte.gz\n",
            "Downloading http://fashion-mnist.s3-website.eu-central-1.amazonaws.com/train-images-idx3-ubyte.gz to dataset/FashionMNIST/raw/train-images-idx3-ubyte.gz\n"
          ]
        },
        {
          "output_type": "stream",
          "name": "stderr",
          "text": [
            "100%|██████████| 26421880/26421880 [00:01<00:00, 16093013.16it/s]\n"
          ]
        },
        {
          "output_type": "stream",
          "name": "stdout",
          "text": [
            "Extracting dataset/FashionMNIST/raw/train-images-idx3-ubyte.gz to dataset/FashionMNIST/raw\n",
            "\n",
            "Downloading http://fashion-mnist.s3-website.eu-central-1.amazonaws.com/train-labels-idx1-ubyte.gz\n",
            "Downloading http://fashion-mnist.s3-website.eu-central-1.amazonaws.com/train-labels-idx1-ubyte.gz to dataset/FashionMNIST/raw/train-labels-idx1-ubyte.gz\n"
          ]
        },
        {
          "output_type": "stream",
          "name": "stderr",
          "text": [
            "100%|██████████| 29515/29515 [00:00<00:00, 271209.99it/s]\n"
          ]
        },
        {
          "output_type": "stream",
          "name": "stdout",
          "text": [
            "Extracting dataset/FashionMNIST/raw/train-labels-idx1-ubyte.gz to dataset/FashionMNIST/raw\n",
            "\n",
            "Downloading http://fashion-mnist.s3-website.eu-central-1.amazonaws.com/t10k-images-idx3-ubyte.gz\n",
            "Downloading http://fashion-mnist.s3-website.eu-central-1.amazonaws.com/t10k-images-idx3-ubyte.gz to dataset/FashionMNIST/raw/t10k-images-idx3-ubyte.gz\n"
          ]
        },
        {
          "output_type": "stream",
          "name": "stderr",
          "text": [
            "100%|██████████| 4422102/4422102 [00:00<00:00, 5070388.99it/s]\n"
          ]
        },
        {
          "output_type": "stream",
          "name": "stdout",
          "text": [
            "Extracting dataset/FashionMNIST/raw/t10k-images-idx3-ubyte.gz to dataset/FashionMNIST/raw\n",
            "\n",
            "Downloading http://fashion-mnist.s3-website.eu-central-1.amazonaws.com/t10k-labels-idx1-ubyte.gz\n",
            "Downloading http://fashion-mnist.s3-website.eu-central-1.amazonaws.com/t10k-labels-idx1-ubyte.gz to dataset/FashionMNIST/raw/t10k-labels-idx1-ubyte.gz\n"
          ]
        },
        {
          "output_type": "stream",
          "name": "stderr",
          "text": [
            "100%|██████████| 5148/5148 [00:00<00:00, 15141849.22it/s]"
          ]
        },
        {
          "output_type": "stream",
          "name": "stdout",
          "text": [
            "Extracting dataset/FashionMNIST/raw/t10k-labels-idx1-ubyte.gz to dataset/FashionMNIST/raw\n",
            "\n"
          ]
        },
        {
          "output_type": "stream",
          "name": "stderr",
          "text": [
            "\n"
          ]
        }
      ]
    },
    {
      "cell_type": "code",
      "source": [
        "#actually in our dataset FashionMNIST we have 10 categories(classes) and their corresponding images.\n",
        "#9 categories have labels having index starting from 0 to 9.\n",
        "#FashionMNIST also have 60000 train data and 10000 test data\n",
        "#for more details google: torchvision.dataset FashionMNIST"
      ],
      "metadata": {
        "id": "J6gLuawyEFrZ"
      },
      "execution_count": null,
      "outputs": []
    },
    {
      "cell_type": "code",
      "source": [
        "#it will give[total_images,height ,weidth]\n",
        "train_data.data.shape"
      ],
      "metadata": {
        "colab": {
          "base_uri": "https://localhost:8080/"
        },
        "id": "4FNoTvxKOp6E",
        "outputId": "6bc428af-4d5b-4395-a5d6-6ec3b7509d6f"
      },
      "execution_count": null,
      "outputs": [
        {
          "output_type": "execute_result",
          "data": {
            "text/plain": [
              "torch.Size([60000, 28, 28])"
            ]
          },
          "metadata": {},
          "execution_count": 8
        }
      ]
    },
    {
      "cell_type": "code",
      "source": [
        "#it will show all the classes within the dataset\n",
        "train_data.classes"
      ],
      "metadata": {
        "colab": {
          "base_uri": "https://localhost:8080/"
        },
        "id": "oZmGx4adOpqE",
        "outputId": "738b5625-2707-4096-a923-78cbad2fa3c0"
      },
      "execution_count": null,
      "outputs": [
        {
          "output_type": "execute_result",
          "data": {
            "text/plain": [
              "['T-shirt/top',\n",
              " 'Trouser',\n",
              " 'Pullover',\n",
              " 'Dress',\n",
              " 'Coat',\n",
              " 'Sandal',\n",
              " 'Shirt',\n",
              " 'Sneaker',\n",
              " 'Bag',\n",
              " 'Ankle boot']"
            ]
          },
          "metadata": {},
          "execution_count": 9
        }
      ]
    },
    {
      "cell_type": "code",
      "source": [
        "#this will calculate total training images\n",
        "len(train_data.data)"
      ],
      "metadata": {
        "colab": {
          "base_uri": "https://localhost:8080/"
        },
        "id": "wVrRjlk9QZ-j",
        "outputId": "afae2bb9-899e-4e4a-acfe-6244bc6d2c25"
      },
      "execution_count": null,
      "outputs": [
        {
          "output_type": "execute_result",
          "data": {
            "text/plain": [
              "60000"
            ]
          },
          "metadata": {},
          "execution_count": 10
        }
      ]
    },
    {
      "cell_type": "code",
      "source": [
        "#this will calculate total testing images\n",
        "len(test_data.data)"
      ],
      "metadata": {
        "colab": {
          "base_uri": "https://localhost:8080/"
        },
        "id": "UE4Ze01JQUAQ",
        "outputId": "a06f579b-7535-4f2d-b032-430f97c84a7f"
      },
      "execution_count": null,
      "outputs": [
        {
          "output_type": "execute_result",
          "data": {
            "text/plain": [
              "10000"
            ]
          },
          "metadata": {},
          "execution_count": 11
        }
      ]
    },
    {
      "cell_type": "code",
      "source": [
        "#this is just downloading the data now we will learn how to retrieve the images and plot the images"
      ],
      "metadata": {
        "id": "tlu8Fk7APOzX"
      },
      "execution_count": null,
      "outputs": []
    },
    {
      "cell_type": "code",
      "source": [
        "img,target=train_data[0]"
      ],
      "metadata": {
        "id": "hbCBp5Z2FVjJ"
      },
      "execution_count": null,
      "outputs": []
    },
    {
      "cell_type": "code",
      "source": [
        "# at zero index we have label or target equal to 9 ie determined by output\n",
        "#these index value and labels are randomly matched\n",
        "\n",
        "target"
      ],
      "metadata": {
        "colab": {
          "base_uri": "https://localhost:8080/"
        },
        "id": "TLs5SnwlGH_c",
        "outputId": "b7ab14ec-bcd4-4808-a07c-c58eaead4a17"
      },
      "execution_count": null,
      "outputs": [
        {
          "output_type": "execute_result",
          "data": {
            "text/plain": [
              "9"
            ]
          },
          "metadata": {},
          "execution_count": 14
        }
      ]
    },
    {
      "cell_type": "code",
      "source": [
        "#and from dataset we can see that the image at label equal to 9 is ankle boot"
      ],
      "metadata": {
        "id": "MlXkvlgPPsBW"
      },
      "execution_count": null,
      "outputs": []
    },
    {
      "cell_type": "code",
      "source": [
        "img.shape\n",
        "#this will give the shape of image at label=9"
      ],
      "metadata": {
        "colab": {
          "base_uri": "https://localhost:8080/"
        },
        "id": "prGmQVglGK6i",
        "outputId": "be3399d2-f8d4-4625-8c7e-962fe97447b2"
      },
      "execution_count": null,
      "outputs": [
        {
          "output_type": "execute_result",
          "data": {
            "text/plain": [
              "torch.Size([1, 28, 28])"
            ]
          },
          "metadata": {},
          "execution_count": 16
        }
      ]
    },
    {
      "cell_type": "code",
      "source": [
        "#[colorchannel(since the image is black and white then we have colorchannel equalto 1) , height , width]\n",
        "#[1,28,28]"
      ],
      "metadata": {
        "id": "_-wxCS10GkSQ"
      },
      "execution_count": null,
      "outputs": []
    },
    {
      "cell_type": "code",
      "source": [
        "#now we will plot the image at 0 ie label=9"
      ],
      "metadata": {
        "id": "1UV9dniOHi5E"
      },
      "execution_count": null,
      "outputs": []
    },
    {
      "cell_type": "code",
      "source": [
        "plt.imshow(img.squeeze()) #here we need to squeeze the image so that dimensions become [28 x 28]\n",
        "plt.show()"
      ],
      "metadata": {
        "colab": {
          "base_uri": "https://localhost:8080/",
          "height": 430
        },
        "id": "TaUIorsYHnSf",
        "outputId": "4f07122b-753f-4885-fe6a-6c3b6048861e"
      },
      "execution_count": null,
      "outputs": [
        {
          "output_type": "display_data",
          "data": {
            "text/plain": [
              "<Figure size 640x480 with 1 Axes>"
            ],
            "image/png": "[encoded data removed]"
          },
          "metadata": {}
        }
      ]
    },
    {
      "cell_type": "code",
      "source": [
        "#we can change the color to grey as\n",
        "plt.imshow(img.squeeze(), cmap=\"gray\")\n",
        "plt.show()\n"
      ],
      "metadata": {
        "colab": {
          "base_uri": "https://localhost:8080/",
          "height": 430
        },
        "id": "BWJ0rL7WJPHE",
        "outputId": "3027f34b-82d7-4794-b543-5b99d662b93d"
      },
      "execution_count": null,
      "outputs": [
        {
          "output_type": "display_data",
          "data": {
            "text/plain": [
              "<Figure size 640x480 with 1 Axes>"
            ],
            "image/png": "[encoded data removed]"
          },
          "metadata": {}
        }
      ]
    },
    {
      "cell_type": "code",
      "source": [
        "#now we will do the same with image at any random index say 100 and then check its label or target"
      ],
      "metadata": {
        "id": "_Mb9RQkbJcrY"
      },
      "execution_count": null,
      "outputs": []
    },
    {
      "cell_type": "code",
      "source": [
        "img,target=train_data[100]"
      ],
      "metadata": {
        "id": "_5zpr0tvSBuj"
      },
      "execution_count": null,
      "outputs": []
    },
    {
      "cell_type": "code",
      "source": [
        "target"
      ],
      "metadata": {
        "colab": {
          "base_uri": "https://localhost:8080/"
        },
        "id": "S77cWMudSGGR",
        "outputId": "795e15b5-6a2f-4786-ce3c-fa58993e0cce"
      },
      "execution_count": null,
      "outputs": [
        {
          "output_type": "execute_result",
          "data": {
            "text/plain": [
              "8"
            ]
          },
          "metadata": {},
          "execution_count": 23
        }
      ]
    },
    {
      "cell_type": "code",
      "source": [
        "img.shape\n"
      ],
      "metadata": {
        "colab": {
          "base_uri": "https://localhost:8080/"
        },
        "id": "hPzdrAgJSG5Z",
        "outputId": "d1767b9b-0d34-4b0a-b904-e5d076d3c287"
      },
      "execution_count": null,
      "outputs": [
        {
          "output_type": "execute_result",
          "data": {
            "text/plain": [
              "torch.Size([1, 28, 28])"
            ]
          },
          "metadata": {},
          "execution_count": 24
        }
      ]
    },
    {
      "cell_type": "code",
      "source": [
        "plt.imshow(img.squeeze()) #here we need to squeeze the image so that dimensions become [28 x 28] because matplotlib acceptd 2D images\n",
        "plt.show()"
      ],
      "metadata": {
        "colab": {
          "base_uri": "https://localhost:8080/",
          "height": 430
        },
        "id": "WmkNDd7dSOfY",
        "outputId": "2d19f1b2-d2fa-46c1-a77f-710d7bf93ff2"
      },
      "execution_count": null,
      "outputs": [
        {
          "output_type": "display_data",
          "data": {
            "text/plain": [
              "<Figure size 640x480 with 1 Axes>"
            ],
            "image/png": "[encoded data removed]"
          },
          "metadata": {}
        }
      ]
    },
    {
      "cell_type": "code",
      "source": [
        "plt.imshow(img.squeeze(), cmap=\"gray\")\n",
        "plt.show()"
      ],
      "metadata": {
        "colab": {
          "base_uri": "https://localhost:8080/",
          "height": 430
        },
        "id": "0sxNQWKYSST-",
        "outputId": "a9d74617-9460-49c8-f7ea-eb1bfc9e9098"
      },
      "execution_count": null,
      "outputs": [
        {
          "output_type": "display_data",
          "data": {
            "text/plain": [
              "<Figure size 640x480 with 1 Axes>"
            ],
            "image/png": "[encoded data removed]"
          },
          "metadata": {}
        }
      ]
    },
    {
      "cell_type": "code",
      "source": [
        "#Similarly at every index we will be having any randomly assigned label"
      ],
      "metadata": {
        "id": "_w12lUA1SWLl"
      },
      "execution_count": null,
      "outputs": []
    },
    {
      "cell_type": "code",
      "source": [
        "#now lets plot all these images simultaneously\n",
        "\n",
        "class_names=train_data.classes\n",
        "\n",
        "#this will allocate a area/size of 6 x 10\n",
        "fig=plt.figure(figsize=(6,10))\n",
        "\n",
        "rows=4 #specify the no of rows\n",
        "cols=4 #specify the no of col\n",
        "\n",
        "# it will plot images= rows x cols ie 4 x 4 ie 16 random images\n",
        "\n",
        "for i in range(1, rows*cols + 1):\n",
        "  random_index=torch.randint(0, len(train_data) , size=[1]).item()\n",
        "  img,target=train_data[random_index]\n",
        "  fig.add_subplot(rows,cols,i)\n",
        "  plt.imshow(img.squeeze(),cmap=\"gray\")\n",
        "  plt.title(class_names[target])\n",
        "  plt.axis(False)\n",
        "\n"
      ],
      "metadata": {
        "colab": {
          "base_uri": "https://localhost:8080/",
          "height": 763
        },
        "id": "e9ABzJHHTwn2",
        "outputId": "d2ead76f-04bc-4062-8f0c-1b0c4855d781"
      },
      "execution_count": null,
      "outputs": [
        {
          "output_type": "display_data",
          "data": {
            "text/plain": [
              "<Figure size 600x1000 with 16 Axes>"
            ],
            "image/png": "[encoded data removed]"
          },
          "metadata": {}
        }
      ]
    },
    {
      "cell_type": "code",
      "source": [
        "#DataLoaders\n",
        "#used to load the data\n",
        "\n",
        "#turns large datasets into smaller chunks known as batches or mini batches\n",
        "#generally we put chunk size of 32\n",
        "# 60000 % 32 =1875 batches\n",
        "# 1 batch=32 images\n",
        "\n"
      ],
      "metadata": {
        "id": "akITv35XXeb1"
      },
      "execution_count": null,
      "outputs": []
    },
    {
      "cell_type": "code",
      "source": [
        "from torch.utils.data import DataLoader"
      ],
      "metadata": {
        "id": "68bMjbhslxrd"
      },
      "execution_count": null,
      "outputs": []
    },
    {
      "cell_type": "code",
      "source": [
        "Batch_size=32\n",
        "\n",
        "train_dataLoader=DataLoader(\n",
        "    train_data,# dataset that we have to convert into batches\n",
        "    batch_size=Batch_size,#batch size ie how many samples per batch\n",
        "    shuffle=True #to shuffle the data on every epoch\n",
        ")\n",
        "\n",
        "test_dataLoader=DataLoader(\n",
        "    test_data,# dataset that we have to convert into batches\n",
        "    batch_size=Batch_size,#batch size ie how many samples per batch\n",
        "    shuffle=False #to shuffle the data on every epoch\n",
        ")"
      ],
      "metadata": {
        "id": "rbjo5xJbmOH2"
      },
      "execution_count": null,
      "outputs": []
    },
    {
      "cell_type": "code",
      "source": [
        "#now we will build a simple ANN model\n"
      ],
      "metadata": {
        "id": "5FSDgmpRnCOr"
      },
      "execution_count": null,
      "outputs": []
    },
    {
      "cell_type": "code",
      "source": [
        "#Build Base Model\n",
        "\n",
        "class Model(nn.Module):\n",
        "  def __init__(self,input_shape,hidden_units,output_shape):\n",
        "    super().__init__()\n",
        "    self.layer_stack=nn.Sequential(\n",
        "    nn.Flatten(),#Flatten -[1,28,28] -> [1,28 * 28]   we have total 28*28=784 features\n",
        "    nn.Linear(in_features=input_shape,out_features=hidden_units),\n",
        "    nn.ReLU(),#added ReLu activation function\n",
        "    nn.Linear(in_features=hidden_units,out_features=output_shape),\n",
        "    nn.ReLU()\n",
        "    )\n",
        "\n",
        "\n",
        "  def forward(self,x):\n",
        "    return self.layer_stack(x)\n",
        "\n"
      ],
      "metadata": {
        "id": "U8QS-YbynZns"
      },
      "execution_count": null,
      "outputs": []
    },
    {
      "cell_type": "code",
      "source": [
        "# input_shape(input neurons ie feature) = 28*28=784 featues per image\n",
        "#hidden_units=neurons in hidden layer . could be any\n",
        "#output_shape=10 because we have 10 classes\n",
        "\n",
        "model=Model(input_shape=784,hidden_units=64,output_shape=len(class_names))\n",
        "\n"
      ],
      "metadata": {
        "id": "rRqYOYyPpnCb"
      },
      "execution_count": null,
      "outputs": []
    },
    {
      "cell_type": "code",
      "source": [
        "model.to(\"cpu\")"
      ],
      "metadata": {
        "colab": {
          "base_uri": "https://localhost:8080/"
        },
        "id": "cSMFBd2zqiwx",
        "outputId": "18241850-5420-41f3-f0ad-91cea1b1763a"
      },
      "execution_count": null,
      "outputs": [
        {
          "output_type": "execute_result",
          "data": {
            "text/plain": [
              "Model(\n",
              "  (layer_stack): Sequential(\n",
              "    (0): Flatten(start_dim=1, end_dim=-1)\n",
              "    (1): Linear(in_features=784, out_features=64, bias=True)\n",
              "    (2): ReLU()\n",
              "    (3): Linear(in_features=64, out_features=10, bias=True)\n",
              "    (4): ReLU()\n",
              "  )\n",
              ")"
            ]
          },
          "metadata": {},
          "execution_count": 45
        }
      ]
    },
    {
      "cell_type": "code",
      "source": [
        "# Evaluation metric\n",
        "def accuracy(y_true, y_pred):\n",
        "  # y_true = 1, y_pred = 1\n",
        "  # y_true = 0, y_pred = 0\n",
        "  correct_classification = torch.eq(y_true, y_pred).sum().item()\n",
        "  acc = (correct_classification / len(y_pred)) * 100\n",
        "  return acc"
      ],
      "metadata": {
        "id": "npgUqLFKq34z"
      },
      "execution_count": null,
      "outputs": []
    },
    {
      "cell_type": "code",
      "source": [
        "#we will use Cross entropy loss function because it is a multi classification problem\n",
        "\n",
        "loss_function=nn.CrossEntropyLoss()\n",
        "\n",
        "#we will use Adam optimisation technique\n",
        "optimizer=torch.optim.Adam(params=model.parameters(),lr=0.1) #lr = learning rate\n"
      ],
      "metadata": {
        "id": "b0QkIKrLs4zA"
      },
      "execution_count": null,
      "outputs": []
    },
    {
      "cell_type": "code",
      "source": [
        "#now we will write our training code\n",
        "\n",
        "def train_step(model,data_loader,loss_fn,optimizer,accuracy,device):\n",
        "  train_loss,train_acc=0,0\n",
        "  model.to(device)\n",
        "\n",
        "  for batch, (X,y) in enumerate(data_loader): #this will give the X=image ,y=target of each image from the batch of 32 one by one\n",
        "    X,y=X.to(device),y.to(device)\n",
        "\n",
        "    #FeedForward\n",
        "    y_pred=model(X)\n",
        "\n",
        "    #calculate loss\n",
        "    train_loss=loss_fn(y_pred,y)\n",
        "    train_loss += loss #this will show the totalloss of each batch at the end as above we calculated the loss per image\n",
        "    train_acc += accuracy(y,y_pred.argmax(dim=1))\n",
        "\n",
        "    #BackPropogation\n",
        "    optimizer.zero_grad()\n",
        "\n",
        "    #loss backward\n",
        "    loss.backward()\n",
        "\n",
        "    #optimizer step\n",
        "    optimizer.step()\n",
        "\n",
        "\n",
        "  train_loss /=len(data_loader) # to get train_loss per epoch\n",
        "  train_acc /=len(data_loader)  ## to get train_acc per epoch\n",
        "\n",
        "  print(f\"Train Acc : {train_acc :.3f} | Train_loss : { train_loss : .3f}\")\n"
      ],
      "metadata": {
        "id": "2-DYNmu4tqVZ"
      },
      "execution_count": null,
      "outputs": []
    },
    {
      "cell_type": "code",
      "source": [
        "#now we will write our testing code\n",
        "\n",
        "def test_step(model,data_loader,loss_fn,accuracy,device):#no need for optimisation in testing data\n",
        "  test_loss,test_acc=0,0\n",
        "  model.to(device)\n",
        "  model.eval()#always do this with testing data\n",
        "\n",
        "\n",
        "  with torch.inference_mode():\n",
        "   for batch, (X,y) in data_loader: #this will give the X=image ,y=target of each image from the batch of 32 one by one\n",
        "    X,y=X.to(device),y.to(device)\n",
        "\n",
        "    #FeedForward\n",
        "    y_pred=model(X)\n",
        "\n",
        "    #calculate loss\n",
        "    loss=loss_fn(y_pred,y)\n",
        "    test_loss += loss #this will show the totalloss of each batch at the end as above we calculated the loss per image\n",
        "    test_acc += accuracy(y,y_pred.argmax(dim=1))\n",
        "\n",
        "    # no backprpogation in testing\n",
        "  test_loss /=len(data_loader) # to get train_loss per epoch\n",
        "  test_acc /=len(data_loader)  ## to get train_acc per epoch\n",
        "\n",
        "  print(f\"Test Acc : {test_acc :.3f} | Test_loss : { train_loss : .3f}\")\n"
      ],
      "metadata": {
        "id": "p876DuNiwxFR"
      },
      "execution_count": null,
      "outputs": []
    },
    {
      "cell_type": "code",
      "source": [
        "#tqdm-used to show the progress of the loop\n",
        "from tqdm import tqdm\n",
        "\n",
        "epochs=5\n",
        "\n",
        "for epoch in tqdm(range(epochs)):\n",
        "  print(f\"Epoch : {epochs}\")\n",
        "  train_step(model,train_dataLoader,loss_function,optimizer,accuracy,\"cpu\")\n",
        "  test_step(model,test_dataLoader,loss_function,accuracy,\"cpu\")\n"
      ],
      "metadata": {
        "colab": {
          "base_uri": "https://localhost:8080/",
          "height": 373
        },
        "id": "ON4OtLRSk_Nf",
        "outputId": "eee70eb6-b31d-49af-a88f-c2780220a86a"
      },
      "execution_count": null,
      "outputs": [
        {
          "output_type": "stream",
          "name": "stderr",
          "text": [
            "  0%|          | 0/5 [00:00<?, ?it/s]"
          ]
        },
        {
          "output_type": "stream",
          "name": "stdout",
          "text": [
            "Epoch : 5\n"
          ]
        },
        {
          "output_type": "stream",
          "name": "stderr",
          "text": [
            "\n"
          ]
        },
        {
          "output_type": "error",
          "ename": "NameError",
          "evalue": "ignored",
          "traceback": [
            "\u001b[0;31m---------------------------------------------------------------------------\u001b[0m",
            "\u001b[0;31mNameError\u001b[0m                                 Traceback (most recent call last)",
            "\u001b[0;32m<ipython-input-54-cda0f3ae10a4>\u001b[0m in \u001b[0;36m<cell line: 6>\u001b[0;34m()\u001b[0m\n\u001b[1;32m      6\u001b[0m \u001b[0;32mfor\u001b[0m \u001b[0mepoch\u001b[0m \u001b[0;32min\u001b[0m \u001b[0mtqdm\u001b[0m\u001b[0;34m(\u001b[0m\u001b[0mrange\u001b[0m\u001b[0;34m(\u001b[0m\u001b[0mepochs\u001b[0m\u001b[0;34m)\u001b[0m\u001b[0;34m)\u001b[0m\u001b[0;34m:\u001b[0m\u001b[0;34m\u001b[0m\u001b[0;34m\u001b[0m\u001b[0m\n\u001b[1;32m      7\u001b[0m   \u001b[0mprint\u001b[0m\u001b[0;34m(\u001b[0m\u001b[0;34mf\"Epoch : {epochs}\"\u001b[0m\u001b[0;34m)\u001b[0m\u001b[0;34m\u001b[0m\u001b[0;34m\u001b[0m\u001b[0m\n\u001b[0;32m----> 8\u001b[0;31m   \u001b[0mtrain_step\u001b[0m\u001b[0;34m(\u001b[0m\u001b[0mmodel\u001b[0m\u001b[0;34m,\u001b[0m\u001b[0mtrain_dataLoader\u001b[0m\u001b[0;34m,\u001b[0m\u001b[0mloss_function\u001b[0m\u001b[0;34m,\u001b[0m\u001b[0moptimizer\u001b[0m\u001b[0;34m,\u001b[0m\u001b[0maccuracy\u001b[0m\u001b[0;34m,\u001b[0m\u001b[0;34m\"cpu\"\u001b[0m\u001b[0;34m)\u001b[0m\u001b[0;34m\u001b[0m\u001b[0;34m\u001b[0m\u001b[0m\n\u001b[0m\u001b[1;32m      9\u001b[0m   \u001b[0mtest_step\u001b[0m\u001b[0;34m(\u001b[0m\u001b[0mmodel\u001b[0m\u001b[0;34m,\u001b[0m\u001b[0mtest_dataLoader\u001b[0m\u001b[0;34m,\u001b[0m\u001b[0mloss_function\u001b[0m\u001b[0;34m,\u001b[0m\u001b[0maccuracy\u001b[0m\u001b[0;34m,\u001b[0m\u001b[0;34m\"cpu\"\u001b[0m\u001b[0;34m)\u001b[0m\u001b[0;34m\u001b[0m\u001b[0;34m\u001b[0m\u001b[0m\n",
            "\u001b[0;32m<ipython-input-48-fcbefb687c6a>\u001b[0m in \u001b[0;36mtrain_step\u001b[0;34m(model, data_loader, loss_fn, optimizer, accuracy, device)\u001b[0m\n\u001b[1;32m     13\u001b[0m     \u001b[0;31m#calculate loss\u001b[0m\u001b[0;34m\u001b[0m\u001b[0;34m\u001b[0m\u001b[0m\n\u001b[1;32m     14\u001b[0m     \u001b[0mtrain_loss\u001b[0m\u001b[0;34m=\u001b[0m\u001b[0mloss_fn\u001b[0m\u001b[0;34m(\u001b[0m\u001b[0my_pred\u001b[0m\u001b[0;34m,\u001b[0m\u001b[0my\u001b[0m\u001b[0;34m)\u001b[0m\u001b[0;34m\u001b[0m\u001b[0;34m\u001b[0m\u001b[0m\n\u001b[0;32m---> 15\u001b[0;31m     \u001b[0mtrain_loss\u001b[0m \u001b[0;34m+=\u001b[0m \u001b[0mloss\u001b[0m \u001b[0;31m#this will show the totalloss of each batch at the end as above we calculated the loss per image\u001b[0m\u001b[0;34m\u001b[0m\u001b[0;34m\u001b[0m\u001b[0m\n\u001b[0m\u001b[1;32m     16\u001b[0m     \u001b[0mtrain_acc\u001b[0m \u001b[0;34m+=\u001b[0m \u001b[0maccuracy\u001b[0m\u001b[0;34m(\u001b[0m\u001b[0my\u001b[0m\u001b[0;34m,\u001b[0m\u001b[0my_pred\u001b[0m\u001b[0;34m.\u001b[0m\u001b[0margmax\u001b[0m\u001b[0;34m(\u001b[0m\u001b[0mdim\u001b[0m\u001b[0;34m=\u001b[0m\u001b[0;36m1\u001b[0m\u001b[0;34m)\u001b[0m\u001b[0;34m)\u001b[0m\u001b[0;34m\u001b[0m\u001b[0;34m\u001b[0m\u001b[0m\n\u001b[1;32m     17\u001b[0m \u001b[0;34m\u001b[0m\u001b[0m\n",
            "\u001b[0;31mNameError\u001b[0m: name 'loss' is not defined"
          ]
        }
      ]
    },
    {
      "cell_type": "code",
      "source": [],
      "metadata": {
        "id": "HhZ0XDaLnJ2f"
      },
      "execution_count": null,
      "outputs": []
    }
  ]
}